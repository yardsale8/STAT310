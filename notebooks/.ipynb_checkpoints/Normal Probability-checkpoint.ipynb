{
 "cells": [
  {
   "cell_type": "code",
   "execution_count": 9,
   "metadata": {
    "collapsed": true
   },
   "outputs": [],
   "source": [
    "\n",
    "# Makes the plots smaller - run this first\n",
    "options(repr.plot.width=4, repr.plot.height=3)"
   ]
  },
  {
   "cell_type": "markdown",
   "metadata": {},
   "source": [
    "# Simulating and Calculating Probabilites with R\n",
    "\n",
    "## Outline\n",
    "\n",
    "1. Estimating a probability through simulation.\n",
    "    1. Generating random normal data\n",
    "    2. Using inequalities and mean to estimate the probability\n",
    "2. Visualizing the answer by shading a graph.\n",
    "3. Using `pnorm` to compute the exact normal probability."
   ]
  },
  {
   "cell_type": "markdown",
   "metadata": {},
   "source": [
    "##  Estimating a probability through simulation.\n",
    "\n",
    "The easiest way to estimate a probability is\n",
    "\n",
    "1. Simulate data from the distribution\n",
    "2. Use the empirical probability estimate\n",
    "\n",
    "$$ \\text{Empirical Probability} = \\frac{\\text{Number Successes}}{\\text{Number Trials}} $$"
   ]
  },
  {
   "cell_type": "markdown",
   "metadata": {},
   "source": [
    "## Random normal data\n",
    "\n",
    "We can use the `rnorm` function to general normal data\n",
    "\n",
    "    rnorm(num_trials, mean, sd)"
   ]
  },
  {
   "cell_type": "code",
   "execution_count": 1,
   "metadata": {
    "collapsed": false
   },
   "outputs": [
    {
     "data": {
      "text/html": [
       "<ol class=list-inline>\n",
       "\t<li>4.83845628768409</li>\n",
       "\t<li>5.3668967361274</li>\n",
       "\t<li>4.92794624948576</li>\n",
       "\t<li>5.50879672735167</li>\n",
       "\t<li>6.40933935283885</li>\n",
       "\t<li>5.06118382891695</li>\n",
       "\t<li>3.63080718218907</li>\n",
       "\t<li>5.55415825955809</li>\n",
       "\t<li>5.33800626331271</li>\n",
       "\t<li>3.94591944713821</li>\n",
       "</ol>\n"
      ],
      "text/latex": [
       "\\begin{enumerate*}\n",
       "\\item 4.83845628768409\n",
       "\\item 5.3668967361274\n",
       "\\item 4.92794624948576\n",
       "\\item 5.50879672735167\n",
       "\\item 6.40933935283885\n",
       "\\item 5.06118382891695\n",
       "\\item 3.63080718218907\n",
       "\\item 5.55415825955809\n",
       "\\item 5.33800626331271\n",
       "\\item 3.94591944713821\n",
       "\\end{enumerate*}\n"
      ],
      "text/markdown": [
       "1. 4.83845628768409\n",
       "2. 5.3668967361274\n",
       "3. 4.92794624948576\n",
       "4. 5.50879672735167\n",
       "5. 6.40933935283885\n",
       "6. 5.06118382891695\n",
       "7. 3.63080718218907\n",
       "8. 5.55415825955809\n",
       "9. 5.33800626331271\n",
       "10. 3.94591944713821\n",
       "\n",
       "\n"
      ],
      "text/plain": [
       " [1] 4.838456 5.366897 4.927946 5.508797 6.409339 5.061184 3.630807 5.554158\n",
       " [9] 5.338006 3.945919"
      ]
     },
     "metadata": {},
     "output_type": "display_data"
    }
   ],
   "source": [
    "xs <- rnorm(10, 5, 1)\n",
    "xs"
   ]
  },
  {
   "cell_type": "markdown",
   "metadata": {},
   "source": [
    "## Inequalities, R vectors, `sum` and `mean`\n",
    "\n",
    "When using a `vector` in an inequality, R checks each value"
   ]
  },
  {
   "cell_type": "code",
   "execution_count": 2,
   "metadata": {
    "collapsed": false
   },
   "outputs": [
    {
     "data": {
      "text/html": [
       "<ol class=list-inline>\n",
       "\t<li>TRUE</li>\n",
       "\t<li>FALSE</li>\n",
       "\t<li>TRUE</li>\n",
       "\t<li>FALSE</li>\n",
       "\t<li>FALSE</li>\n",
       "\t<li>FALSE</li>\n",
       "\t<li>TRUE</li>\n",
       "\t<li>FALSE</li>\n",
       "\t<li>FALSE</li>\n",
       "\t<li>TRUE</li>\n",
       "</ol>\n"
      ],
      "text/latex": [
       "\\begin{enumerate*}\n",
       "\\item TRUE\n",
       "\\item FALSE\n",
       "\\item TRUE\n",
       "\\item FALSE\n",
       "\\item FALSE\n",
       "\\item FALSE\n",
       "\\item TRUE\n",
       "\\item FALSE\n",
       "\\item FALSE\n",
       "\\item TRUE\n",
       "\\end{enumerate*}\n"
      ],
      "text/markdown": [
       "1. TRUE\n",
       "2. FALSE\n",
       "3. TRUE\n",
       "4. FALSE\n",
       "5. FALSE\n",
       "6. FALSE\n",
       "7. TRUE\n",
       "8. FALSE\n",
       "9. FALSE\n",
       "10. TRUE\n",
       "\n",
       "\n"
      ],
      "text/plain": [
       " [1]  TRUE FALSE  TRUE FALSE FALSE FALSE  TRUE FALSE FALSE  TRUE"
      ]
     },
     "metadata": {},
     "output_type": "display_data"
    }
   ],
   "source": [
    "xs < 5"
   ]
  },
  {
   "cell_type": "markdown",
   "metadata": {},
   "source": [
    "## Adding Boolean vectors counts the number of `TRUE` values\n",
    "\n",
    "Next, we can get the number of True values using `sum`"
   ]
  },
  {
   "cell_type": "code",
   "execution_count": 3,
   "metadata": {
    "collapsed": false
   },
   "outputs": [
    {
     "data": {
      "text/html": [
       "4"
      ],
      "text/latex": [
       "4"
      ],
      "text/markdown": [
       "4"
      ],
      "text/plain": [
       "[1] 4"
      ]
     },
     "metadata": {},
     "output_type": "display_data"
    }
   ],
   "source": [
    "sum(xs < 5)"
   ]
  },
  {
   "cell_type": "markdown",
   "metadata": {},
   "source": [
    "## Averaging Boolean vectors gives the fraction of `TRUE` values\n",
    "\n",
    "Even better, we can use `mean` to get the fraction of `TRUE` values"
   ]
  },
  {
   "cell_type": "code",
   "execution_count": 4,
   "metadata": {
    "collapsed": false
   },
   "outputs": [
    {
     "data": {
      "text/html": [
       "0.4"
      ],
      "text/latex": [
       "0.4"
      ],
      "text/markdown": [
       "0.4"
      ],
      "text/plain": [
       "[1] 0.4"
      ]
     },
     "metadata": {},
     "output_type": "display_data"
    }
   ],
   "source": [
    "mean(xs < 5)"
   ]
  },
  {
   "cell_type": "markdown",
   "metadata": {},
   "source": [
    "## Example: Putting it all together\n",
    "\n",
    "Heights of women in their 20's $\\longrightarrow$ normal(64.5, 2.5)\n",
    "\n",
    "**Question:** What is the probability that a randomly selected women is taller than 62 inches?\n",
    "\n",
    "That is find \n",
    "\n",
    "$$P(H > 62) $$"
   ]
  },
  {
   "cell_type": "markdown",
   "metadata": {},
   "source": [
    "### 1. Simulate the distribution"
   ]
  },
  {
   "cell_type": "code",
   "execution_count": 10,
   "metadata": {
    "collapsed": false
   },
   "outputs": [
    {
     "data": {
      "image/png": "[encoded data removed]",
      "text/plain": [
       "Plot with title “Histogram of heights”"
      ]
     },
     "metadata": {},
     "output_type": "display_data"
    }
   ],
   "source": [
    "heights <- rnorm(100000, 64.5, 2.5)\n",
    "hist(heights)"
   ]
  },
  {
   "cell_type": "markdown",
   "metadata": {},
   "source": [
    "### 2. Estimate the probability"
   ]
  },
  {
   "cell_type": "code",
   "execution_count": 6,
   "metadata": {
    "collapsed": false
   },
   "outputs": [
    {
     "data": {
      "text/html": [
       "0.83801"
      ],
      "text/latex": [
       "0.83801"
      ],
      "text/markdown": [
       "0.83801"
      ],
      "text/plain": [
       "[1] 0.83801"
      ]
     },
     "metadata": {},
     "output_type": "display_data"
    }
   ],
   "source": [
    "mean(heights > 62)"
   ]
  },
  {
   "cell_type": "markdown",
   "metadata": {},
   "source": [
    "## Exercise\n",
    "\n",
    "**Same distribution:** $normal\\left(\\mu = 64.5, \\sigma = 2.5\\right)$\n",
    "\n",
    "**Question:** the probability a randomly selected women is less than 63 inches tall.\n",
    "\n",
    "**Task:** Use simulation to estimate the probability"
   ]
  },
  {
   "cell_type": "code",
   "execution_count": null,
   "metadata": {
    "collapsed": true
   },
   "outputs": [],
   "source": []
  },
  {
   "cell_type": "markdown",
   "metadata": {},
   "source": [
    "## Visualizing Normal Probability\n",
    "\n",
    "* Probability = area under the curve\n",
    "* Visualize with attached function"
   ]
  },
  {
   "cell_type": "code",
   "execution_count": 7,
   "metadata": {
    "collapsed": true
   },
   "outputs": [],
   "source": [
    "shade_normal <- function(l, u, mean, sd) {\n",
    "  cord.x <- c(l,seq(l,u,0.01),u) \n",
    "  cord.y <- c(0,dnorm(seq(l,u,0.01), mean, sd),0) \n",
    "  curve(dnorm(x,mean,sd),xlim=c(mean-3*sd,mean+3*sd),main='Normal Distribution') \n",
    "  polygon(cord.x,cord.y,col='skyblue')\n",
    "}"
   ]
  },
  {
   "cell_type": "markdown",
   "metadata": {},
   "source": [
    "**Note:** Don't worry if you don't understand the code"
   ]
  },
  {
   "cell_type": "markdown",
   "metadata": {},
   "source": [
    "## Example\n",
    "We want to illustrate $P(H > 62)$.\n",
    "\n",
    "1. **Use Interval Notation:** $H\\in(62,\\infty)$\n",
    "2. **Change $\\infty$:** Uses a larger number for $\\infty$\n",
    "3. **Change $-\\infty$:** Uses a larger number for $-\\infty$"
   ]
  },
  {
   "cell_type": "code",
   "execution_count": 11,
   "metadata": {
    "collapsed": false,
    "scrolled": false
   },
   "outputs": [
    {
     "data": {
      "image/png": "[encoded data removed]",
      "text/plain": [
       "Plot with title “Normal Distribution”"
      ]
     },
     "metadata": {},
     "output_type": "display_data"
    }
   ],
   "source": [
    "shade_normal(62, 1000, 64.5, 2.5)"
   ]
  },
  {
   "cell_type": "markdown",
   "metadata": {},
   "source": [
    "## Exercise\n",
    "\n",
    "**Same distribution:** $normal\\left(\\mu = 64.5, \\sigma = 2.5\\right)$\n",
    "\n",
    "**Question:** the probability a randomly selected women is less than 63 inches tall.\n",
    "\n",
    "**Task:** Visualize the probability\n"
   ]
  },
  {
   "cell_type": "code",
   "execution_count": null,
   "metadata": {
    "collapsed": true
   },
   "outputs": [],
   "source": []
  },
  {
   "cell_type": "markdown",
   "metadata": {},
   "source": [
    "## Exercise\n",
    "\n",
    "**Same distribution:** $normal\\left(\\mu = 64.5, \\sigma = 2.5\\right)$\n",
    "\n",
    "**Question:** the probability a randomly selected women is between 64 and 68 inches tall.\n",
    "\n",
    "**Task:** Visualize the probability\n"
   ]
  },
  {
   "cell_type": "code",
   "execution_count": null,
   "metadata": {
    "collapsed": true
   },
   "outputs": [],
   "source": []
  },
  {
   "cell_type": "markdown",
   "metadata": {},
   "source": [
    "## Calculating the exact probability with `pnorm`\n",
    "\n",
    "`pnorm` is for **tail area**\n",
    "\n",
    "We can use `pnorm` to compute exact probability as follows\n",
    "\n",
    "1. Use `pnorm(u, mean, sd)` for $P(X < u)$ or $P(X \\le u)$\n",
    "    * left tail problem\n",
    "2. Use `pnorm(u, mean, sd, lower.tail = FALSE)` for $P(X > u)$ or $P(X \\ge u)$\n",
    "    * right tail problem\n",
    "3. Use `1 - pnorm(l, mean, sd) - pnorm(u, mean, sd, lower.tail = FALSE)` for $P(l < X < u)$ etc.\n",
    "    * two tail problem\n",
    "    "
   ]
  },
  {
   "cell_type": "code",
   "execution_count": 28,
   "metadata": {
    "collapsed": false
   },
   "outputs": [
    {
     "data": {
      "text/html": [
       "0.158655253931457"
      ],
      "text/latex": [
       "0.158655253931457"
      ],
      "text/markdown": [
       "0.158655253931457"
      ],
      "text/plain": [
       "[1] 0.1586553"
      ]
     },
     "metadata": {},
     "output_type": "display_data"
    }
   ],
   "source": [
    "prob_less_62 = pnorm(62, 64.5, 2.5)\n",
    "prob_less_62 "
   ]
  },
  {
   "cell_type": "code",
   "execution_count": 30,
   "metadata": {
    "collapsed": false
   },
   "outputs": [
    {
     "data": {
      "text/html": [
       "0.725746882249926"
      ],
      "text/latex": [
       "0.725746882249926"
      ],
      "text/markdown": [
       "0.725746882249926"
      ],
      "text/plain": [
       "[1] 0.7257469"
      ]
     },
     "metadata": {},
     "output_type": "display_data"
    }
   ],
   "source": [
    "prob_greater_63 = pnorm(63, 64.5, 2.5, lower.tail = FALSE)\n",
    "prob_greater_63 "
   ]
  },
  {
   "cell_type": "code",
   "execution_count": 32,
   "metadata": {
    "collapsed": false
   },
   "outputs": [
    {
     "data": {
      "text/html": [
       "0.498503050205332"
      ],
      "text/latex": [
       "0.498503050205332"
      ],
      "text/markdown": [
       "0.498503050205332"
      ],
      "text/plain": [
       "[1] 0.4985031"
      ]
     },
     "metadata": {},
     "output_type": "display_data"
    }
   ],
   "source": [
    "prob_between_64_68 = 1 - pnorm(64, 64.5, 2.5) - pnorm(68, 64.5, 2.5, lower.tail = FALSE)\n",
    "prob_between_64_68 "
   ]
  },
  {
   "cell_type": "markdown",
   "metadata": {},
   "source": [
    "# Code Cells for Homework"
   ]
  },
  {
   "cell_type": "code",
   "execution_count": null,
   "metadata": {
    "collapsed": true
   },
   "outputs": [],
   "source": []
  },
  {
   "cell_type": "code",
   "execution_count": null,
   "metadata": {
    "collapsed": true
   },
   "outputs": [],
   "source": []
  },
  {
   "cell_type": "code",
   "execution_count": null,
   "metadata": {
    "collapsed": true
   },
   "outputs": [],
   "source": []
  },
  {
   "cell_type": "code",
   "execution_count": null,
   "metadata": {
    "collapsed": true
   },
   "outputs": [],
   "source": []
  },
  {
   "cell_type": "code",
   "execution_count": null,
   "metadata": {
    "collapsed": true
   },
   "outputs": [],
   "source": []
  },
  {
   "cell_type": "code",
   "execution_count": null,
   "metadata": {
    "collapsed": true
   },
   "outputs": [],
   "source": []
  },
  {
   "cell_type": "code",
   "execution_count": null,
   "metadata": {
    "collapsed": true
   },
   "outputs": [],
   "source": []
  },
  {
   "cell_type": "code",
   "execution_count": null,
   "metadata": {
    "collapsed": true
   },
   "outputs": [],
   "source": []
  },
  {
   "cell_type": "code",
   "execution_count": null,
   "metadata": {
    "collapsed": true
   },
   "outputs": [],
   "source": []
  },
  {
   "cell_type": "code",
   "execution_count": null,
   "metadata": {
    "collapsed": true
   },
   "outputs": [],
   "source": []
  }
 ],
 "metadata": {
  "anaconda-cloud": {},
  "kernelspec": {
   "display_name": "R",
   "language": "R",
   "name": "ir"
  },
  "language_info": {
   "codemirror_mode": "r",
   "file_extension": ".r",
   "mimetype": "text/x-r-source",
   "name": "R",
   "pygments_lexer": "r",
   "version": "3.3.2"
  }
 },
 "nbformat": 4,
 "nbformat_minor": 0
}
