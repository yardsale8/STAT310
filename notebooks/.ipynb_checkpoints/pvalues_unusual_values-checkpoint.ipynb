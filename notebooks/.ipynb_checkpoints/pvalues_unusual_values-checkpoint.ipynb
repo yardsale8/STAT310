{
 "cells": [
  {
   "cell_type": "code",
   "execution_count": 3,
   "metadata": {
    "collapsed": true
   },
   "outputs": [],
   "source": [
    "# Makes the plots smaller - run this first\n",
    "options(repr.plot.width=4, repr.plot.height=3)"
   ]
  },
  {
   "cell_type": "markdown",
   "metadata": {
    "collapsed": true
   },
   "source": [
    "# P-Values and Unusual Values"
   ]
  },
  {
   "cell_type": "markdown",
   "metadata": {},
   "source": [
    "## Unusually Large and Small Values\n",
    "\n",
    "* Example:\n",
    "    * any value in the largest 5% would be unusually large.\n",
    "    * any value in the smallest 5% would be unusually small.\n",
    "* The **level of significance** or $\\alpha$ is a % we call unusual/unlikely.\n"
   ]
  },
  {
   "cell_type": "markdown",
   "metadata": {},
   "source": [
    "<img src=\"https://github.com/yardsale8/STAT310/blob/master/img/unsual_values.png?raw=true\" width=\"500\">"
   ]
  },
  {
   "cell_type": "markdown",
   "metadata": {},
   "source": [
    "## Is a value unusually small?\n",
    "\n",
    "1. **Lower p-value:** fraction of distribution âat or belowâ the value. \n",
    "2. Compare the p-value to $\\alpha$ and decide.\n"
   ]
  },
  {
   "cell_type": "markdown",
   "metadata": {},
   "source": [
    "<img src=\"https://github.com/yardsale8/STAT310/blob/master/img/lower_pvalue.png?raw=true\" width=\"500\">"
   ]
  },
  {
   "cell_type": "markdown",
   "metadata": {},
   "source": [
    "## Is a value unusually large?\n",
    "\n",
    "1. **Upper p-value:** fraction of distribution âat or aboveâ the value. \n",
    "2. Compare the p-value to $\\alpha$ and decide.\n"
   ]
  },
  {
   "cell_type": "markdown",
   "metadata": {},
   "source": [
    "<img src=\"https://github.com/yardsale8/STAT310/blob/master/img/upper_pvalue.png?raw=true\" width=\"500\">"
   ]
  },
  {
   "cell_type": "markdown",
   "metadata": {},
   "source": [
    "## Important!\n",
    "\n",
    "Small p-values â Unusual\n"
   ]
  },
  {
   "cell_type": "markdown",
   "metadata": {},
   "source": [
    "## Example\n",
    "\n",
    "In Manoa Valley on the island of Oahu (Hawaii) the annual rainfall averages $\\mu = 43.6$ inches with standard deviation $\\sigma = 7.5$ inches. A year is chosen at random. Assume a normal distribution.\n"
   ]
  },
  {
   "cell_type": "markdown",
   "metadata": {},
   "source": [
    "**(a)** Would 35 inches of rainfall in a year be an unusually small amount of rain?  Use a 10% level of significance and the p-value approach.\n"
   ]
  },
  {
   "cell_type": "code",
   "execution_count": 6,
   "metadata": {
    "collapsed": true
   },
   "outputs": [],
   "source": [
    "shade_normal <- function(l, u, mean, sd) {\n",
    "  cord.x <- c(l,seq(l,u,0.01),u) \n",
    "  cord.y <- c(0,dnorm(seq(l,u,0.01), mean, sd),0) \n",
    "  curve(dnorm(x,mean,sd),xlim=c(mean-3*sd,mean+3*sd),main='Normal Distribution') \n",
    "  polygon(cord.x,cord.y,col='skyblue')\n",
    "}"
   ]
  },
  {
   "cell_type": "code",
   "execution_count": 7,
   "metadata": {
    "collapsed": false
   },
   "outputs": [
    {
     "data": {
      "image/png": "[encoded data removed]",
      "text/plain": [
       "Plot with title “Normal Distribution”"
      ]
     },
     "metadata": {},
     "output_type": "display_data"
    }
   ],
   "source": [
    "shade_normal(-1000, 35, 43.6, 7.5)"
   ]
  },
  {
   "cell_type": "code",
   "execution_count": 8,
   "metadata": {
    "collapsed": false
   },
   "outputs": [
    {
     "data": {
      "text/html": [
       "0.125759705978076"
      ],
      "text/latex": [
       "0.125759705978076"
      ],
      "text/markdown": [
       "0.125759705978076"
      ],
      "text/plain": [
       "[1] 0.1257597"
      ]
     },
     "metadata": {},
     "output_type": "display_data"
    }
   ],
   "source": [
    "pnorm(35, 43.6, 7.5)"
   ]
  },
  {
   "cell_type": "markdown",
   "metadata": {},
   "source": [
    "**Conclusion:** As $\\text{p-value} = 0.126 > 0.10$, 35 is **not** unusual."
   ]
  },
  {
   "cell_type": "markdown",
   "metadata": {},
   "source": [
    "**(b)** Would 60 inches of rainfall in a year be an unusually large amount of rain?  Use a 5% level of significance and the p-value approach.\n"
   ]
  },
  {
   "cell_type": "code",
   "execution_count": null,
   "metadata": {
    "collapsed": true
   },
   "outputs": [],
   "source": [
    "shade_normal"
   ]
  }
 ],
 "metadata": {
  "kernelspec": {
   "display_name": "R",
   "language": "R",
   "name": "ir"
  },
  "language_info": {
   "codemirror_mode": "r",
   "file_extension": ".r",
   "mimetype": "text/x-r-source",
   "name": "R",
   "pygments_lexer": "r",
   "version": "3.3.2"
  }
 },
 "nbformat": 4,
 "nbformat_minor": 2
}
