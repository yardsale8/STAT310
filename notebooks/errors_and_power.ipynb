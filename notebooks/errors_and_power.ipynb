{
 "cells": [
  {
   "cell_type": "markdown",
   "metadata": {},
   "source": [
    "# Simulating Type I Error\n",
    "\n",
    "* Null must be true.\n",
    "* Find proportion of the time we reject (mistake)"
   ]
  },
  {
   "cell_type": "markdown",
   "metadata": {},
   "source": [
    "### Example\n",
    "\n",
    "$ H_0: \\mu = 10 $\n",
    "\n",
    "$ H_a: \\mu < 10 $"
   ]
  },
  {
   "cell_type": "code",
   "execution_count": 3,
   "metadata": {
    "collapsed": false
   },
   "outputs": [
    {
     "data": {
      "text/html": [
       "<ol class=list-inline>\n",
       "\t<li>18.7273893473524</li>\n",
       "\t<li>7.36504393558281</li>\n",
       "\t<li>5.02549758244353</li>\n",
       "\t<li>10.4532629429208</li>\n",
       "\t<li>6.14996395353849</li>\n",
       "\t<li>15.8144310397419</li>\n",
       "\t<li>14.3848797324628</li>\n",
       "\t<li>6.16275629247985</li>\n",
       "\t<li>18.1405058286542</li>\n",
       "\t<li>14.6835957968574</li>\n",
       "\t<li>13.6924618990696</li>\n",
       "\t<li>8.55847095647047</li>\n",
       "\t<li>21.0170975589655</li>\n",
       "\t<li>6.07692693827138</li>\n",
       "\t<li>14.2860338453851</li>\n",
       "\t<li>13.891121378612</li>\n",
       "\t<li>9.50739136478729</li>\n",
       "\t<li>7.12618672719962</li>\n",
       "\t<li>10.029749890181</li>\n",
       "\t<li>5.59186581588247</li>\n",
       "</ol>\n"
      ],
      "text/latex": [
       "\\begin{enumerate*}\n",
       "\\item 18.7273893473524\n",
       "\\item 7.36504393558281\n",
       "\\item 5.02549758244353\n",
       "\\item 10.4532629429208\n",
       "\\item 6.14996395353849\n",
       "\\item 15.8144310397419\n",
       "\\item 14.3848797324628\n",
       "\\item 6.16275629247985\n",
       "\\item 18.1405058286542\n",
       "\\item 14.6835957968574\n",
       "\\item 13.6924618990696\n",
       "\\item 8.55847095647047\n",
       "\\item 21.0170975589655\n",
       "\\item 6.07692693827138\n",
       "\\item 14.2860338453851\n",
       "\\item 13.891121378612\n",
       "\\item 9.50739136478729\n",
       "\\item 7.12618672719962\n",
       "\\item 10.029749890181\n",
       "\\item 5.59186581588247\n",
       "\\end{enumerate*}\n"
      ],
      "text/markdown": [
       "1. 18.7273893473524\n",
       "2. 7.36504393558281\n",
       "3. 5.02549758244353\n",
       "4. 10.4532629429208\n",
       "5. 6.14996395353849\n",
       "6. 15.8144310397419\n",
       "7. 14.3848797324628\n",
       "8. 6.16275629247985\n",
       "9. 18.1405058286542\n",
       "10. 14.6835957968574\n",
       "11. 13.6924618990696\n",
       "12. 8.55847095647047\n",
       "13. 21.0170975589655\n",
       "14. 6.07692693827138\n",
       "15. 14.2860338453851\n",
       "16. 13.891121378612\n",
       "17. 9.50739136478729\n",
       "18. 7.12618672719962\n",
       "19. 10.029749890181\n",
       "20. 5.59186581588247\n",
       "\n",
       "\n"
      ],
      "text/plain": [
       " [1] 18.727389  7.365044  5.025498 10.453263  6.149964 15.814431 14.384880\n",
       " [8]  6.162756 18.140506 14.683596 13.692462  8.558471 21.017098  6.076927\n",
       "[15] 14.286034 13.891121  9.507391  7.126187 10.029750  5.591866"
      ]
     },
     "metadata": {},
     "output_type": "display_data"
    }
   ],
   "source": [
    "n <- 20\n",
    "mu <- 10  # Why?\n",
    "sigma <-5\n",
    "xs <- rnorm(n, mu, sigma)\n",
    "xs"
   ]
  },
  {
   "cell_type": "code",
   "execution_count": 2,
   "metadata": {
    "collapsed": false
   },
   "outputs": [
    {
     "data": {
      "text/html": [
       "0.772102358725663"
      ],
      "text/latex": [
       "0.772102358725663"
      ],
      "text/markdown": [
       "0.772102358725663"
      ],
      "text/plain": [
       "[1] 0.7721024"
      ]
     },
     "metadata": {},
     "output_type": "display_data"
    }
   ],
   "source": [
    "mu0 <- 10\n",
    "se <- sd(xs)/sqrt(length(xs))\n",
    "t <- (mean(xs) - mu0)/se\n",
    "pval <- pt(t, n - 1)\n",
    "pval"
   ]
  },
  {
   "cell_type": "code",
   "execution_count": 4,
   "metadata": {
    "collapsed": false
   },
   "outputs": [
    {
     "data": {
      "text/html": [
       "0.880640272763906"
      ],
      "text/latex": [
       "0.880640272763906"
      ],
      "text/markdown": [
       "0.880640272763906"
      ],
      "text/plain": [
       "[1] 0.8806403"
      ]
     },
     "metadata": {},
     "output_type": "display_data"
    }
   ],
   "source": [
    "# TODO: Make a function to allow repeated application\n",
    "pval <- function(xs, mu0 = 10) {\n",
    "    se <- sd(xs)/sqrt(length(xs))\n",
    "    t <- (mean(xs) - mu0)/se\n",
    "    pval <- pt(t, n - 1)\n",
    "    return(pval)}\n",
    "pval(xs)"
   ]
  },
  {
   "cell_type": "code",
   "execution_count": 4,
   "metadata": {
    "collapsed": false
   },
   "outputs": [
    {
     "data": {
      "text/html": [
       "0.0433915188155429"
      ],
      "text/latex": [
       "0.0433915188155429"
      ],
      "text/markdown": [
       "0.0433915188155429"
      ],
      "text/plain": [
       "[1] 0.04339152"
      ]
     },
     "metadata": {},
     "output_type": "display_data"
    }
   ],
   "source": [
    "# Apply pval to a new sample\n",
    "xs <- rnorm(n, mu, sigma)\n",
    "pval(xs)"
   ]
  },
  {
   "cell_type": "code",
   "execution_count": 5,
   "metadata": {
    "collapsed": false
   },
   "outputs": [
    {
     "data": {
      "text/html": [
       "0.0237351437521627"
      ],
      "text/latex": [
       "0.0237351437521627"
      ],
      "text/markdown": [
       "0.0237351437521627"
      ],
      "text/plain": [
       "[1] 0.02373514"
      ]
     },
     "metadata": {},
     "output_type": "display_data"
    }
   ],
   "source": [
    "# Make this a function\n",
    "get_pval <- function(n) {\n",
    "    xs <- rnorm(n, mu, sigma)\n",
    "    return(pval(xs))}\n",
    "get_pval(20)"
   ]
  },
  {
   "cell_type": "code",
   "execution_count": 6,
   "metadata": {
    "collapsed": false
   },
   "outputs": [
    {
     "data": {
      "text/html": [
       "<ol class=list-inline>\n",
       "\t<li>0.603872406146756</li>\n",
       "\t<li>0.129270293309874</li>\n",
       "\t<li>0.435236631023236</li>\n",
       "\t<li>0.308924708118928</li>\n",
       "\t<li>0.380941588782215</li>\n",
       "</ol>\n"
      ],
      "text/latex": [
       "\\begin{enumerate*}\n",
       "\\item 0.603872406146756\n",
       "\\item 0.129270293309874\n",
       "\\item 0.435236631023236\n",
       "\\item 0.308924708118928\n",
       "\\item 0.380941588782215\n",
       "\\end{enumerate*}\n"
      ],
      "text/markdown": [
       "1. 0.603872406146756\n",
       "2. 0.129270293309874\n",
       "3. 0.435236631023236\n",
       "4. 0.308924708118928\n",
       "5. 0.380941588782215\n",
       "\n",
       "\n"
      ],
      "text/plain": [
       "[1] 0.6038724 0.1292703 0.4352366 0.3089247 0.3809416"
      ]
     },
     "metadata": {},
     "output_type": "display_data"
    }
   ],
   "source": [
    "# TODO: Use replicated to run this command 5 times\n",
    "ps <- replicate(5, get_pval(n))\n",
    "ps"
   ]
  },
  {
   "cell_type": "code",
   "execution_count": 7,
   "metadata": {
    "collapsed": false
   },
   "outputs": [
    {
     "data": {
      "text/html": [
       "0"
      ],
      "text/latex": [
       "0"
      ],
      "text/markdown": [
       "0"
      ],
      "text/plain": [
       "[1] 0"
      ]
     },
     "metadata": {},
     "output_type": "display_data"
    }
   ],
   "source": [
    "# Use a boolean to find the proportion that are less than 5% (0.05)\n",
    "mean(ps < 0.05)"
   ]
  },
  {
   "cell_type": "code",
   "execution_count": 9,
   "metadata": {
    "collapsed": false
   },
   "outputs": [
    {
     "data": {
      "text/html": [
       "0.04914"
      ],
      "text/latex": [
       "0.04914"
      ],
      "text/markdown": [
       "0.04914"
      ],
      "text/plain": [
       "[1] 0.04914"
      ]
     },
     "metadata": {},
     "output_type": "display_data"
    }
   ],
   "source": [
    "# Now apply this to many more trials\n",
    "ps <- replicate(100000, get_pval(n))\n",
    "mean(ps < 0.05)"
   ]
  },
  {
   "cell_type": "code",
   "execution_count": 25,
   "metadata": {
    "collapsed": false
   },
   "outputs": [
    {
     "data": {
      "image/png": "[encoded data removed]",
      "text/plain": [
       "Plot with title \"Histogram of ps\""
      ]
     },
     "metadata": {},
     "output_type": "display_data"
    }
   ],
   "source": [
    "hist(ps)"
   ]
  },
  {
   "cell_type": "code",
   "execution_count": 5,
   "metadata": {
    "collapsed": false
   },
   "outputs": [
    {
     "data": {
      "text/html": [
       "1"
      ],
      "text/latex": [
       "1"
      ],
      "text/markdown": [
       "1"
      ],
      "text/plain": [
       "[1] 1"
      ]
     },
     "metadata": {},
     "output_type": "display_data"
    }
   ],
   "source": [
    "ps <- replicate(10000, pval(rnorm(5, 5, 1)))\n",
    "mean(ps < 0.05)"
   ]
  },
  {
   "cell_type": "code",
   "execution_count": null,
   "metadata": {
    "collapsed": true
   },
   "outputs": [],
   "source": []
  }
 ],
 "metadata": {
  "kernelspec": {
   "display_name": "R",
   "language": "R",
   "name": "r"
  },
  "language_info": {
   "codemirror_mode": "r",
   "file_extension": ".r",
   "mimetype": "text/x-r-source",
   "name": "R",
   "pygments_lexer": "r",
   "version": "3.3.0"
  }
 },
 "nbformat": 4,
 "nbformat_minor": 2
}
