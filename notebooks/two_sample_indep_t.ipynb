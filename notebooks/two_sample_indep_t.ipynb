{
 "cells": [
  {
   "cell_type": "markdown",
   "metadata": {
    "slideshow": {
     "slide_type": "slide"
    }
   },
   "source": [
    "# Two Sample t-test for Independent Samples"
   ]
  },
  {
   "cell_type": "markdown",
   "metadata": {
    "slideshow": {
     "slide_type": "fragment"
    }
   },
   "source": [
    "## Paired Data\n",
    "\n",
    "* Paired subjects\n",
    "    * before and after\n",
    "    * twins\n",
    "* Pairing lowers variability"
   ]
  },
  {
   "cell_type": "markdown",
   "metadata": {
    "slideshow": {
     "slide_type": "slide"
    }
   },
   "source": [
    "## Independent Samples\n",
    "\n",
    "* Samples\n",
    "    * Random\n",
    "    * different populations\n",
    "* Experiments\n",
    "    * Two randomly assigned treatments"
   ]
  },
  {
   "cell_type": "markdown",
   "metadata": {
    "slideshow": {
     "slide_type": "slide"
    }
   },
   "source": [
    "## Details for a 2 sample test\n",
    "\n",
    "### Hypotheses\n",
    "\n",
    "$$ H_0: \\mu_1 - \\mu_2 = 0 $$\n",
    "$$ H_0: \\mu_1 - \\mu_2 (<,>,\\ne) 0 $$"
   ]
  },
  {
   "cell_type": "markdown",
   "metadata": {
    "slideshow": {
     "slide_type": "slide"
    }
   },
   "source": [
    "### Statistic\n",
    "\n",
    "$$ \\bar{y}_1 - \\bar{y}_2$$"
   ]
  },
  {
   "cell_type": "markdown",
   "metadata": {
    "slideshow": {
     "slide_type": "slide"
    }
   },
   "source": [
    "### Standard Error\n",
    "\n",
    "$$SE_1 = \\frac{s_1}{\\sqrt{n_1}}, SE_2 = \\frac{s_2}{\\sqrt{n_2}}$$\n",
    "\n",
    "$$ SE_{\\bar{y}_1-\\bar{y}_2}  = \\sqrt{SE_1^2+SE_2^2}$$"
   ]
  },
  {
   "cell_type": "markdown",
   "metadata": {
    "slideshow": {
     "slide_type": "slide"
    }
   },
   "source": [
    "### Degrees of Freedom (Satterthwaite approximation)\n",
    "\n",
    "$$ df = \\frac{\\left(SE_1^2+SE_2^2\\right)^2}{\\frac{SE_1^4}{n_1-1} + \\frac{SE_2^4}{n_2-1}} $$"
   ]
  },
  {
   "cell_type": "markdown",
   "metadata": {
    "slideshow": {
     "slide_type": "slide"
    }
   },
   "source": [
    "### Test Statistic\n",
    "\n",
    "$$ t_s = \\frac{(\\bar{y}_1-\\bar{y}_2) - 0}{SE_{\\bar{y}_1-\\bar{y}_2}}$$"
   ]
  },
  {
   "cell_type": "markdown",
   "metadata": {
    "slideshow": {
     "slide_type": "slide"
    }
   },
   "source": [
    "## Confidence Interval\n",
    "\n",
    "$$ \\left( \\bar{y}_1 - \\bar{y}_1\\right) \\pm t_c*SE_{\\bar{y}_1-\\bar{y}_2}$$\n",
    "\n",
    "Where `t_c = abs(qt(tail_area, df))`"
   ]
  },
  {
   "cell_type": "markdown",
   "metadata": {
    "slideshow": {
     "slide_type": "slide"
    }
   },
   "source": [
    "### Example\n",
    "\n",
    "* randomized experiment\n",
    "    * 6 subject given a drug\n",
    "    * 6 subjects given a placebo\n",
    "* Reaction time was measured\n",
    "* **Research question:** Did the drug increase reaction time? \n"
   ]
  },
  {
   "cell_type": "markdown",
   "metadata": {
    "slideshow": {
     "slide_type": "fragment"
    }
   },
   "source": [
    "We are going to subtract $Treat - Control$ and treatment is hypothetically larger\n",
    "\n",
    "Thus $H_a: \\mu_{treat} - \\mu_{control} > 0$"
   ]
  },
  {
   "cell_type": "code",
   "execution_count": 36,
   "metadata": {
    "collapsed": true,
    "slideshow": {
     "slide_type": "fragment"
    }
   },
   "outputs": [],
   "source": [
    "Control = c(91, 87, 99, 77, 88, 91)\n",
    "Treat = c(101, 110, 103, 93, 99, 104)"
   ]
  },
  {
   "cell_type": "markdown",
   "metadata": {
    "slideshow": {
     "slide_type": "slide"
    }
   },
   "source": [
    "## Long way"
   ]
  },
  {
   "cell_type": "code",
   "execution_count": 37,
   "metadata": {
    "collapsed": false,
    "slideshow": {
     "slide_type": "slide"
    }
   },
   "outputs": [
    {
     "data": {
      "text/html": [
       "12.8333333333333"
      ],
      "text/latex": [
       "12.8333333333333"
      ],
      "text/markdown": [
       "12.8333333333333"
      ],
      "text/plain": [
       "[1] 12.83333"
      ]
     },
     "metadata": {},
     "output_type": "display_data"
    }
   ],
   "source": [
    "mean_diff <- mean(Treat) - mean(Control)\n",
    "mean_diff"
   ]
  },
  {
   "cell_type": "code",
   "execution_count": 38,
   "metadata": {
    "collapsed": false,
    "slideshow": {
     "slide_type": "fragment"
    }
   },
   "outputs": [
    {
     "data": {
      "text/html": [
       "3.72454322329896"
      ],
      "text/latex": [
       "3.72454322329896"
      ],
      "text/markdown": [
       "3.72454322329896"
      ],
      "text/plain": [
       "[1] 3.724543"
      ]
     },
     "metadata": {},
     "output_type": "display_data"
    }
   ],
   "source": [
    "n_1 <- length(Treat)\n",
    "n_2 <- length(Control)\n",
    "SE_1 <- sd(Treat)/sqrt(n_1)\n",
    "SE_2 <- sd(Control)/sqrt(n_2) \n",
    "SE_diff <- sqrt(SE_1^2 + SE_2^2)\n",
    "SE_diff"
   ]
  },
  {
   "cell_type": "code",
   "execution_count": 39,
   "metadata": {
    "collapsed": false,
    "slideshow": {
     "slide_type": "slide"
    }
   },
   "outputs": [
    {
     "data": {
      "text/html": [
       "3.44561267353649"
      ],
      "text/latex": [
       "3.44561267353649"
      ],
      "text/markdown": [
       "3.44561267353649"
      ],
      "text/plain": [
       "[1] 3.445613"
      ]
     },
     "metadata": {},
     "output_type": "display_data"
    }
   ],
   "source": [
    "t_s <- (mean_diff - 0)/SE_diff\n",
    "t_s"
   ]
  },
  {
   "cell_type": "code",
   "execution_count": 40,
   "metadata": {
    "collapsed": false,
    "slideshow": {
     "slide_type": "slide"
    }
   },
   "outputs": [
    {
     "data": {
      "text/html": [
       "9.47968249267093"
      ],
      "text/latex": [
       "9.47968249267093"
      ],
      "text/markdown": [
       "9.47968249267093"
      ],
      "text/plain": [
       "[1] 9.479682"
      ]
     },
     "metadata": {},
     "output_type": "display_data"
    }
   ],
   "source": [
    "df = (SE_1^2 + SE_2^2)^2/(SE_1^4/(n_1 - 1) + SE_2^4/(n_2 - 1))\n",
    "df"
   ]
  },
  {
   "cell_type": "code",
   "execution_count": 41,
   "metadata": {
    "collapsed": false,
    "slideshow": {
     "slide_type": "fragment"
    }
   },
   "outputs": [
    {
     "data": {
      "text/html": [
       "0.0033912300792069"
      ],
      "text/latex": [
       "0.0033912300792069"
      ],
      "text/markdown": [
       "0.0033912300792069"
      ],
      "text/plain": [
       "[1] 0.00339123"
      ]
     },
     "metadata": {},
     "output_type": "display_data"
    }
   ],
   "source": [
    "# Greater than test -> lower tail = FALSE\n",
    "pval <- pt(t_s, df, lower.tail = FALSE)\n",
    "pval"
   ]
  },
  {
   "cell_type": "code",
   "execution_count": 42,
   "metadata": {
    "collapsed": false,
    "slideshow": {
     "slide_type": "slide"
    }
   },
   "outputs": [
    {
     "data": {
      "text/html": [
       "1.82260847796523"
      ],
      "text/latex": [
       "1.82260847796523"
      ],
      "text/markdown": [
       "1.82260847796523"
      ],
      "text/plain": [
       "[1] 1.822608"
      ]
     },
     "metadata": {},
     "output_type": "display_data"
    }
   ],
   "source": [
    "# Make a 90% CI\n",
    "tail_area <- 0.05\n",
    "t_c <- abs(qt(tail_area, df))\n",
    "t_c"
   ]
  },
  {
   "cell_type": "code",
   "execution_count": 43,
   "metadata": {
    "collapsed": false,
    "slideshow": {
     "slide_type": "fragment"
    }
   },
   "outputs": [
    {
     "data": {
      "text/html": [
       "<ol class=list-inline>\n",
       "\t<li>6.0449492780007</li>\n",
       "\t<li>19.621717388666</li>\n",
       "</ol>\n"
      ],
      "text/latex": [
       "\\begin{enumerate*}\n",
       "\\item 6.0449492780007\n",
       "\\item 19.621717388666\n",
       "\\end{enumerate*}\n"
      ],
      "text/markdown": [
       "1. 6.0449492780007\n",
       "2. 19.621717388666\n",
       "\n",
       "\n"
      ],
      "text/plain": [
       "[1]  6.044949 19.621717"
      ]
     },
     "metadata": {},
     "output_type": "display_data"
    }
   ],
   "source": [
    "lower <- mean_diff - t_c*SE_diff\n",
    "upper <- mean_diff + t_c*SE_diff\n",
    "c(lower, upper)"
   ]
  },
  {
   "cell_type": "markdown",
   "metadata": {
    "slideshow": {
     "slide_type": "slide"
    }
   },
   "source": [
    "## Short way - One Tail Test"
   ]
  },
  {
   "cell_type": "code",
   "execution_count": 44,
   "metadata": {
    "collapsed": false,
    "slideshow": {
     "slide_type": "fragment"
    }
   },
   "outputs": [
    {
     "data": {
      "text/plain": [
       "\n",
       "\tWelch Two Sample t-test\n",
       "\n",
       "data:  Treat and Control\n",
       "t = 3.4456, df = 9.4797, p-value = 0.003391\n",
       "alternative hypothesis: true difference in means is greater than 0\n",
       "95 percent confidence interval:\n",
       " 6.044949      Inf\n",
       "sample estimates:\n",
       "mean of x mean of y \n",
       "101.66667  88.83333 \n"
      ]
     },
     "metadata": {},
     "output_type": "display_data"
    }
   ],
   "source": [
    "t.test(Treat, Control, alternative = \"greater\")"
   ]
  },
  {
   "cell_type": "markdown",
   "metadata": {
    "slideshow": {
     "slide_type": "slide"
    }
   },
   "source": [
    "## Short way - Two tail CI"
   ]
  },
  {
   "cell_type": "code",
   "execution_count": 45,
   "metadata": {
    "collapsed": false,
    "slideshow": {
     "slide_type": "fragment"
    }
   },
   "outputs": [
    {
     "data": {
      "text/plain": [
       "\n",
       "\tWelch Two Sample t-test\n",
       "\n",
       "data:  Treat and Control\n",
       "t = 3.4456, df = 9.4797, p-value = 0.006782\n",
       "alternative hypothesis: true difference in means is not equal to 0\n",
       "90 percent confidence interval:\n",
       "  6.044949 19.621717\n",
       "sample estimates:\n",
       "mean of x mean of y \n",
       "101.66667  88.83333 \n"
      ]
     },
     "metadata": {},
     "output_type": "display_data"
    }
   ],
   "source": [
    "t.test(Treat, Control, alternative = \"two.sided\", conf.level = 0.90)"
   ]
  },
  {
   "cell_type": "markdown",
   "metadata": {
    "slideshow": {
     "slide_type": "slide"
    }
   },
   "source": [
    "## Two Sample t-test in JMP\n",
    "\n",
    "Now I will demonstrate the 2 sample test in JMP, summarized as\n",
    "\n",
    "1. Enter the data stacked\n",
    "    1. Data in one column\n",
    "    2. Group in another\n",
    "2. Analyze > Fit Y by X\n",
    "    1. Response in Y\n",
    "    2. Groups in X\n",
    "3. Add a Quantile plot\n",
    "4. Perform a t-test\n",
    "    1. Pay attention to subtraction"
   ]
  },
  {
   "cell_type": "markdown",
   "metadata": {
    "slideshow": {
     "slide_type": "slide"
    }
   },
   "source": [
    "## Data for Group Work\n",
    "\n",
    "Here are the data values for the homework."
   ]
  },
  {
   "cell_type": "code",
   "execution_count": 47,
   "metadata": {
    "collapsed": true,
    "slideshow": {
     "slide_type": "fragment"
    }
   },
   "outputs": [],
   "source": [
    "honey_locust <- c(271.5, 21.1, 18.7, 32.2, 29.2, 32.2, 99.9, 12.3, 38.6, 1.8, 45.6, 53.2, 32.2, 38.6, 49.3, 49.3, 18.7, 21.1, 45.6, 32.2, 42, 29.2, 45.6, 12.3, 61.4, 5.9, 49.3, 8.8, 7.3, 7.3, 8.8, 29.2, 45.6, 29.2, 45.6, 23.6, 45.6, 29.2, 10.5, 35.3, 5.9, 16.4)\n",
    "norway_maple <- c(262.7, 168.1, 38.6, 45.6, 23.6, 74.7, 116.7, 182.4, 141.3, 61.4, 182.4, 262.7, 128.7, 99.9, 205, 128.7, 74.7, 168.1, 122.7, 182.4, 45.6, 49.3, 70.1, 116.7, 57.2, 45.6, 122.7, 237.1, 18.7, 10.5, 3.6, 29.2, 42, 29.2, 4.7, 8.8)"
   ]
  },
  {
   "cell_type": "code",
   "execution_count": null,
   "metadata": {
    "collapsed": true,
    "slideshow": {
     "slide_type": "fragment"
    }
   },
   "outputs": [],
   "source": []
  }
 ],
 "metadata": {
  "kernelspec": {
   "display_name": "R",
   "language": "R",
   "name": "r"
  },
  "language_info": {
   "codemirror_mode": "r",
   "file_extension": ".r",
   "mimetype": "text/x-r-source",
   "name": "R",
   "pygments_lexer": "r",
   "version": "3.3.0"
  }
 },
 "nbformat": 4,
 "nbformat_minor": 2
}
