{
 "cells": [
  {
   "cell_type": "markdown",
   "metadata": {},
   "source": [
    "# Introduction to Confidence Intervals - Means\n",
    "\n",
    "1)  Answer the following questions using R and the associated normal\n",
    "    function pnorm and qnorm.\n",
    "\n",
    "a.  Verify that the interval $\\mu \\pm 2\\sigma$ contains 95% of the\n",
    "    distribution. Do this for a few means and standard deviations.\n",
    "\n",
    "    "
   ]
  },
  {
   "cell_type": "code",
   "execution_count": null,
   "metadata": {
    "collapsed": true
   },
   "outputs": [],
   "source": []
  },
  {
   "cell_type": "markdown",
   "metadata": {},
   "source": [
    "b.  Use qnorm to find the value $z_{*}$ such that $\\mu \\pm z_{*}\\sigma$ will contain 80% of the distribution."
   ]
  },
  {
   "cell_type": "code",
   "execution_count": null,
   "metadata": {
    "collapsed": true
   },
   "outputs": [],
   "source": []
  },
  {
   "cell_type": "markdown",
   "metadata": {},
   "source": [
    "2)  A Gallup poll from 2009 asked people how much money that they\n",
    "    expected to spend on Christmas presents in 1999. The sample mean of\n",
    "    the 922 responses was \\$857.\n",
    "\n",
    "a)  Is the variable *amount expected to be spent on Christmas presents\n",
    "    in 1999* qualitative or quantitative?"
   ]
  },
  {
   "cell_type": "markdown",
   "metadata": {},
   "source": []
  },
  {
   "cell_type": "markdown",
   "metadata": {},
   "source": [
    "b)  Is \\$857 a parameter or statistics?"
   ]
  },
  {
   "cell_type": "markdown",
   "metadata": {},
   "source": []
  },
  {
   "cell_type": "markdown",
   "metadata": {},
   "source": [
    "c)  Identify (in words) the parameter of interest in this study. What\n",
    "    symbol represents this parameter?"
   ]
  },
  {
   "cell_type": "markdown",
   "metadata": {},
   "source": []
  },
  {
   "cell_type": "markdown",
   "metadata": {},
   "source": [
    "d)  Do you know the value of the parameter in this study? Is it more\n",
    "    likely to be close to \\$857 than far away from it?"
   ]
  },
  {
   "cell_type": "markdown",
   "metadata": {},
   "source": []
  },
  {
   "cell_type": "markdown",
   "metadata": {},
   "source": [
    "3)  Recall that standard deviation of the sample mean\n",
    "    $\\overset{\\overline{}}{x}\\ $ is given by $\\frac{\\sigma}{\\sqrt{n}}$,\n",
    "    where $\\sigma$ is the population standard deviation and $n$ the\n",
    "    sample size. Suppose for these expected shopping expenditures that\n",
    "    the population standard deviation is $\\sigma = 205$.\n",
    "\n",
    "a.  Calculate the standard deviation of the sample mean."
   ]
  },
  {
   "cell_type": "markdown",
   "metadata": {},
   "source": [
    "b.  Add subtract two standard deviations to/from the observed sample\n",
    "    mean to form a reasonable interval estimate for the population\n",
    "    mean $\\mu$."
   ]
  },
  {
   "cell_type": "markdown",
   "metadata": {},
   "source": [
    "4)  Next we will simulate many intervals of the form\n",
    "    $\\overset{\\overline{}}{x} \\pm z_{*}\\frac{\\sigma}{\\sqrt{n}}$\n",
    "    Use the <http://www.rossmanchance.com/applets/ConfSim.html> with\n",
    "    the following settings to explore many individual confidence\n",
    "    intervals. (95% confidence interval is given by $\\bar{x}\\pm 2*\\sigma/\\sqrt{n}$)\n",
    "\n",
    "<img src=\"./img/image1.png\" width=\"150\"> \n",
    "\n",
    "a.  Which is variable, the interval or the population mean?"
   ]
  },
  {
   "cell_type": "markdown",
   "metadata": {},
   "source": []
  },
  {
   "cell_type": "markdown",
   "metadata": {},
   "source": [
    "b.  Now generate 100 intervals and determine the number of the intervals\n",
    "    that fail to capture $\\mu$.\n",
    "\n",
    "<img src=\"./img/image2.png\"  width=\"150\">\n",
    "\n",
    "How many intervals captured $\\mu$?"
   ]
  },
  {
   "cell_type": "markdown",
   "metadata": {},
   "source": []
  },
  {
   "cell_type": "markdown",
   "metadata": {},
   "source": [
    "c.  We don’t really know the value of the population standard deviation\n",
    "    $\\sigma$, what would be a reasonable value to substitute for is\n",
    "    $\\sigma$?"
   ]
  },
  {
   "cell_type": "markdown",
   "metadata": {},
   "source": []
  },
  {
   "cell_type": "markdown",
   "metadata": {},
   "source": [
    "### The Standard Error\n",
    "\n",
    "  The estimated standard deviation of the sample mean, called the **standard error**, is $SE_{\\overset{\\overline{}}{x}} = \\frac{s}{\\sqrt{n}}$"
   ]
  },
  {
   "cell_type": "markdown",
   "metadata": {},
   "source": [
    "## Simulation – The effect of replacing** $\\mathbf{\\sigma}$ **with** $\\mathbf{s}$\n",
    "\n",
    "We will simulate the effect using\n",
    "<http://www.rossmanchance.com/applets/ConfSim.html>\n",
    "\n",
    "5) Compute the following table.\n",
    "\n",
    "  |**Method**           | Percent of intervals that capture $\\mu$  |\n",
    "  |---------------------|:-----------------------------------------|\n",
    "  |**z** with $\\sigma$  | *percent here*                           |\n",
    "  |**z** with $s$       | *percent here*                           |\n",
    "  |**t** with $s$       | *percent here*                           |"
   ]
  },
  {
   "cell_type": "markdown",
   "metadata": {},
   "source": [
    "6)  What was the effect of replacing $\\sigma$ with $s$ on the rate at\n",
    "    which the intervals captured $\\mu$? Why is this a big deal?"
   ]
  },
  {
   "cell_type": "markdown",
   "metadata": {},
   "source": []
  },
  {
   "cell_type": "markdown",
   "metadata": {},
   "source": [
    "## The $t$ distribution\n",
    "\n",
    "  To fix the issue of replacing $\\sigma$ with $s$, we will use a different table value, from the **t-distribution**, to correct the issue. The t-distribution has a parameter called **degrees of freedom**, which has the following formula when estimating the value of a single mean.\n",
    "  \n",
    "  $$d.f. = n - 1$$\n",
    "  \n",
    "  We can use the `qt` function in R to find the correct critical value for a specific sample size and confidence level.\n",
    "\n",
    "7)  Did using a *t* critical value fix the problem with the effect of\n",
    "    replacing $\\sigma$ with $s$? Explain."
   ]
  },
  {
   "cell_type": "markdown",
   "metadata": {},
   "source": []
  },
  {
   "cell_type": "markdown",
   "metadata": {},
   "source": [
    "## Find *t* critical value using the table.**\n",
    "\n",
    "8)  Find each of the *degrees of freedom* and the *t critical values*\n",
    "    for each of the sample size and confidence level listed in the table\n",
    "\n",
    "  |**Sample size**  |**Confidence Level**   |**d.f.**   |**t critical value**  |\n",
    "  |-----------------|----------------------:|---------- |----------------------|\n",
    "  |5                |90%                    |           |                      |\n",
    "  |12               |80%                    |           |                      |\n",
    "  |33               |99%                    |           |                      |\n",
    "  |1201             |99.9%                  |           |                      |"
   ]
  },
  {
   "cell_type": "markdown",
   "metadata": {},
   "source": [
    "## Putting is all together\n",
    "\n",
    "  **Confidence Interval for a population mean** $\\mathbf{\\mu}$\n",
    "  \n",
    "  $$\\overset{\\overline{}}{x} \\pm t_{*}\\frac{s}{\\sqrt{n}}$$\n",
    "  \n",
    "  where $\\overset{\\overline{}}{x}$ is the sample mean, $s$ is the sample standard deviation, *n* is the sample size, and $t_{*}$ represents the critical value from the *t* distribution with $n - 1$ degrees of freedom for the confidence level desired.\n",
    "\n",
    "9)  A sample of 130 healthy adults was taken and the mean body\n",
    "    temperature is 98.249 degrees, and the sample standard deviation is\n",
    "    0.733 degrees.\n",
    "\n",
    "a.  Calculate a 95% confidence interval for the population mean body\n",
    "    temperature, based on the sample results for these 130 healthy\n",
    "    adults."
   ]
  },
  {
   "cell_type": "code",
   "execution_count": 5,
   "metadata": {
    "collapsed": true
   },
   "outputs": [],
   "source": [
    "# Code here"
   ]
  },
  {
   "cell_type": "markdown",
   "metadata": {},
   "source": [
    "b.  Write a sentence interpreting this interval. Then write a\n",
    "    separate sentence interpreting what the phrase “95% confidence”\n",
    "    means in a statistical sense."
   ]
  },
  {
   "cell_type": "markdown",
   "metadata": {},
   "source": []
  },
  {
   "cell_type": "markdown",
   "metadata": {},
   "source": [
    " ## Confidence Interval for a population mean** $\\mathbf{\\mu}$ **in JMP\n",
    "  \n",
    "i.   Enter the data in a data table or open a JMP file.\n",
    "ii.  Goto **Ditribution > Analyze**\n",
    "iii. Add the CI to the "
   ]
  },
  {
   "cell_type": "code",
   "execution_count": null,
   "metadata": {
    "collapsed": true
   },
   "outputs": [],
   "source": []
  }
 ],
 "metadata": {
  "anaconda-cloud": {},
  "kernelspec": {
   "display_name": "R",
   "language": "R",
   "name": "ir"
  },
  "language_info": {
   "codemirror_mode": "r",
   "file_extension": ".r",
   "mimetype": "text/x-r-source",
   "name": "R",
   "pygments_lexer": "r",
   "version": "3.3.2"
  }
 },
 "nbformat": 4,
 "nbformat_minor": 0
}
