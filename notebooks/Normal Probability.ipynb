{
 "cells": [
  {
   "cell_type": "code",
   "execution_count": 1,
   "metadata": {
    "collapsed": true
   },
   "outputs": [],
   "source": [
    "\n",
    "# Makes the plots smaller - run this first\n",
    "options(repr.plot.width=4, repr.plot.height=3)"
   ]
  },
  {
   "cell_type": "markdown",
   "metadata": {},
   "source": [
    "# Simulating and Calculating Probabilites with R\n",
    "\n",
    "## Outline\n",
    "\n",
    "1. Estimating a probability through simulation.\n",
    "    1. Generating random normal data\n",
    "    2. Using inequalities and mean to estimate the probability\n",
    "2. Visualizing the answer by shading a graph.\n",
    "3. Using `pnorm` to compute the exact normal probability."
   ]
  },
  {
   "cell_type": "markdown",
   "metadata": {},
   "source": [
    "##  Estimating a probability through simulation.\n",
    "\n",
    "The easiest way to estimate a probability is\n",
    "\n",
    "1. Simulate data from the distribution\n",
    "2. Use the empirical probability estimate\n",
    "\n",
    "$$ \\text{Empirical Probability} = \\frac{\\text{Number Successes}}{\\text{Number Trials}} $$"
   ]
  },
  {
   "cell_type": "markdown",
   "metadata": {},
   "source": [
    "## Random normal data\n",
    "\n",
    "We can use the `rnorm` function to general normal data\n",
    "\n",
    "    rnorm(num_trials, mean, sd)"
   ]
  },
  {
   "cell_type": "code",
   "execution_count": 2,
   "metadata": {
    "collapsed": false
   },
   "outputs": [
    {
     "data": {
      "text/html": [
       "<ol class=list-inline>\n",
       "\t<li>4.28846001613788</li>\n",
       "\t<li>5.28106079874479</li>\n",
       "\t<li>5.06122097069912</li>\n",
       "\t<li>3.73231245570093</li>\n",
       "\t<li>4.39325890380036</li>\n",
       "\t<li>4.81419755301896</li>\n",
       "\t<li>4.76107410553724</li>\n",
       "\t<li>4.44843703346982</li>\n",
       "\t<li>5.62851718808202</li>\n",
       "\t<li>6.6843317397604</li>\n",
       "</ol>\n"
      ],
      "text/latex": [
       "\\begin{enumerate*}\n",
       "\\item 4.28846001613788\n",
       "\\item 5.28106079874479\n",
       "\\item 5.06122097069912\n",
       "\\item 3.73231245570093\n",
       "\\item 4.39325890380036\n",
       "\\item 4.81419755301896\n",
       "\\item 4.76107410553724\n",
       "\\item 4.44843703346982\n",
       "\\item 5.62851718808202\n",
       "\\item 6.6843317397604\n",
       "\\end{enumerate*}\n"
      ],
      "text/markdown": [
       "1. 4.28846001613788\n",
       "2. 5.28106079874479\n",
       "3. 5.06122097069912\n",
       "4. 3.73231245570093\n",
       "5. 4.39325890380036\n",
       "6. 4.81419755301896\n",
       "7. 4.76107410553724\n",
       "8. 4.44843703346982\n",
       "9. 5.62851718808202\n",
       "10. 6.6843317397604\n",
       "\n",
       "\n"
      ],
      "text/plain": [
       " [1] 4.288460 5.281061 5.061221 3.732312 4.393259 4.814198 4.761074 4.448437\n",
       " [9] 5.628517 6.684332"
      ]
     },
     "metadata": {},
     "output_type": "display_data"
    }
   ],
   "source": [
    "xs <- rnorm(10, 5, 1)\n",
    "xs"
   ]
  },
  {
   "cell_type": "markdown",
   "metadata": {},
   "source": [
    "## Inequalities, R vectors, `sum` and `mean`\n",
    "\n",
    "When using a `vector` in an inequality, R checks each value"
   ]
  },
  {
   "cell_type": "code",
   "execution_count": 3,
   "metadata": {
    "collapsed": false
   },
   "outputs": [
    {
     "data": {
      "text/html": [
       "<ol class=list-inline>\n",
       "\t<li>TRUE</li>\n",
       "\t<li>FALSE</li>\n",
       "\t<li>FALSE</li>\n",
       "\t<li>TRUE</li>\n",
       "\t<li>TRUE</li>\n",
       "\t<li>TRUE</li>\n",
       "\t<li>TRUE</li>\n",
       "\t<li>TRUE</li>\n",
       "\t<li>FALSE</li>\n",
       "\t<li>FALSE</li>\n",
       "</ol>\n"
      ],
      "text/latex": [
       "\\begin{enumerate*}\n",
       "\\item TRUE\n",
       "\\item FALSE\n",
       "\\item FALSE\n",
       "\\item TRUE\n",
       "\\item TRUE\n",
       "\\item TRUE\n",
       "\\item TRUE\n",
       "\\item TRUE\n",
       "\\item FALSE\n",
       "\\item FALSE\n",
       "\\end{enumerate*}\n"
      ],
      "text/markdown": [
       "1. TRUE\n",
       "2. FALSE\n",
       "3. FALSE\n",
       "4. TRUE\n",
       "5. TRUE\n",
       "6. TRUE\n",
       "7. TRUE\n",
       "8. TRUE\n",
       "9. FALSE\n",
       "10. FALSE\n",
       "\n",
       "\n"
      ],
      "text/plain": [
       " [1]  TRUE FALSE FALSE  TRUE  TRUE  TRUE  TRUE  TRUE FALSE FALSE"
      ]
     },
     "metadata": {},
     "output_type": "display_data"
    }
   ],
   "source": [
    "xs < 5"
   ]
  },
  {
   "cell_type": "markdown",
   "metadata": {},
   "source": [
    "## Adding Boolean vectors counts the number of `TRUE` values\n",
    "\n",
    "Next, we can get the number of True values using `sum`"
   ]
  },
  {
   "cell_type": "code",
   "execution_count": 4,
   "metadata": {
    "collapsed": false
   },
   "outputs": [
    {
     "data": {
      "text/html": [
       "6"
      ],
      "text/latex": [
       "6"
      ],
      "text/markdown": [
       "6"
      ],
      "text/plain": [
       "[1] 6"
      ]
     },
     "metadata": {},
     "output_type": "display_data"
    }
   ],
   "source": [
    "sum(xs < 5)"
   ]
  },
  {
   "cell_type": "markdown",
   "metadata": {},
   "source": [
    "## Averaging Boolean vectors gives the fraction of `TRUE` values\n",
    "\n",
    "Even better, we can use `mean` to get the fraction of `TRUE` values"
   ]
  },
  {
   "cell_type": "code",
   "execution_count": 5,
   "metadata": {
    "collapsed": false
   },
   "outputs": [
    {
     "data": {
      "text/html": [
       "0.6"
      ],
      "text/latex": [
       "0.6"
      ],
      "text/markdown": [
       "0.6"
      ],
      "text/plain": [
       "[1] 0.6"
      ]
     },
     "metadata": {},
     "output_type": "display_data"
    }
   ],
   "source": [
    "mean(xs < 5)"
   ]
  },
  {
   "cell_type": "markdown",
   "metadata": {},
   "source": [
    "## Example: Putting it all together\n",
    "\n",
    "Heights of women in their 20's $\\longrightarrow$ normal(64.5, 2.5)\n",
    "\n",
    "**Question:** What is the probability that a randomly selected women is taller than 62 inches?\n",
    "\n",
    "That is find \n",
    "\n",
    "$$P(H > 62) $$"
   ]
  },
  {
   "cell_type": "markdown",
   "metadata": {},
   "source": [
    "### 1. Simulate the distribution"
   ]
  },
  {
   "cell_type": "code",
   "execution_count": 6,
   "metadata": {
    "collapsed": false
   },
   "outputs": [
    {
     "data": {
      "image/png": "[encoded data removed]",
      "text/plain": [
       "Plot with title “Histogram of heights”"
      ]
     },
     "metadata": {},
     "output_type": "display_data"
    }
   ],
   "source": [
    "heights <- rnorm(100000, 64.5, 2.5)\n",
    "hist(heights)"
   ]
  },
  {
   "cell_type": "markdown",
   "metadata": {},
   "source": [
    "### 2. Estimate the probability"
   ]
  },
  {
   "cell_type": "code",
   "execution_count": 7,
   "metadata": {
    "collapsed": false,
    "scrolled": true
   },
   "outputs": [
    {
     "data": {
      "text/html": [
       "0.83976"
      ],
      "text/latex": [
       "0.83976"
      ],
      "text/markdown": [
       "0.83976"
      ],
      "text/plain": [
       "[1] 0.83976"
      ]
     },
     "metadata": {},
     "output_type": "display_data"
    }
   ],
   "source": [
    "mean(heights > 62)"
   ]
  },
  {
   "cell_type": "markdown",
   "metadata": {},
   "source": [
    "## Example\n",
    "\n",
    "**Same distribution:** $normal\\left(\\mu = 64.5, \\sigma = 2.5\\right)$\n",
    "\n",
    "**Question:** the probability a randomly selected women is between 64 and 68 inches tall, inclusive.\n",
    "\n",
    "**Task:** Use simulation to estimate the probability"
   ]
  },
  {
   "cell_type": "code",
   "execution_count": 13,
   "metadata": {
    "collapsed": false
   },
   "outputs": [
    {
     "data": {
      "text/html": [
       "0"
      ],
      "text/latex": [
       "0"
      ],
      "text/markdown": [
       "0"
      ],
      "text/plain": [
       "[1] 0"
      ]
     },
     "metadata": {},
     "output_type": "display_data"
    }
   ],
   "source": [
    "mean(heights >= 64 & heights <= 64)"
   ]
  },
  {
   "cell_type": "markdown",
   "metadata": {},
   "source": [
    "## Exercise\n",
    "\n",
    "**Same distribution:** $normal\\left(\\mu = 64.5, \\sigma = 2.5\\right)$\n",
    "\n",
    "**Question:** the probability a randomly selected women is less than 63 inches tall.\n",
    "\n",
    "**Task:** Use simulation to estimate the probability"
   ]
  },
  {
   "cell_type": "code",
   "execution_count": null,
   "metadata": {
    "collapsed": true
   },
   "outputs": [],
   "source": []
  },
  {
   "cell_type": "markdown",
   "metadata": {},
   "source": [
    "## Visualizing Normal Probability\n",
    "\n",
    "* Probability = area under the curve\n",
    "* Visualize with attached function"
   ]
  },
  {
   "cell_type": "code",
   "execution_count": 8,
   "metadata": {
    "collapsed": true
   },
   "outputs": [],
   "source": [
    "shade_normal <- function(l, u, mean, sd) {\n",
    "  cord.x <- c(l,seq(l,u,0.01),u) \n",
    "  cord.y <- c(0,dnorm(seq(l,u,0.01), mean, sd),0) \n",
    "  curve(dnorm(x,mean,sd),xlim=c(mean-3*sd,mean+3*sd),main='Normal Distribution') \n",
    "  polygon(cord.x,cord.y,col='skyblue')\n",
    "}"
   ]
  },
  {
   "cell_type": "markdown",
   "metadata": {},
   "source": [
    "**Note:** Don't worry if you don't understand the code"
   ]
  },
  {
   "cell_type": "markdown",
   "metadata": {},
   "source": [
    "## Example\n",
    "We want to illustrate $P(H > 62)$.\n",
    "\n",
    "1. **Use Interval Notation:** $H\\in(62,\\infty)$\n",
    "2. **Change $\\infty$:** Uses a larger number for $\\infty$\n",
    "3. **Change $-\\infty$:** Uses a larger number for $-\\infty$"
   ]
  },
  {
   "cell_type": "code",
   "execution_count": 9,
   "metadata": {
    "collapsed": false,
    "scrolled": false
   },
   "outputs": [
    {
     "data": {
      "image/png": "[encoded data removed]",
      "text/plain": [
       "Plot with title “Normal Distribution”"
      ]
     },
     "metadata": {},
     "output_type": "display_data"
    }
   ],
   "source": [
    "shade_normal(62, 1000, 64.5, 2.5)"
   ]
  },
  {
   "cell_type": "markdown",
   "metadata": {},
   "source": [
    "## Exercise\n",
    "\n",
    "**Same distribution:** $normal\\left(\\mu = 64.5, \\sigma = 2.5\\right)$\n",
    "\n",
    "**Question:** the probability a randomly selected women is less than 63 inches tall.\n",
    "\n",
    "**Task:** Visualize the probability\n"
   ]
  },
  {
   "cell_type": "code",
   "execution_count": null,
   "metadata": {
    "collapsed": true
   },
   "outputs": [],
   "source": []
  },
  {
   "cell_type": "markdown",
   "metadata": {},
   "source": [
    "## Exercise\n",
    "\n",
    "**Same distribution:** $normal\\left(\\mu = 64.5, \\sigma = 2.5\\right)$\n",
    "\n",
    "**Question:** the probability a randomly selected women is between 64 and 68 inches tall.\n",
    "\n",
    "**Task:** Visualize the probability\n"
   ]
  },
  {
   "cell_type": "code",
   "execution_count": null,
   "metadata": {
    "collapsed": true
   },
   "outputs": [],
   "source": []
  },
  {
   "cell_type": "markdown",
   "metadata": {},
   "source": [
    "## Calculating the exact probability with `pnorm`\n",
    "\n",
    "`pnorm` is for **tail area**\n",
    "\n",
    "We can use `pnorm` to compute exact probability as follows\n",
    "\n",
    "1. Use `pnorm(u, mean, sd)` for $P(X < u)$ or $P(X \\le u)$\n",
    "    * left tail problem\n",
    "2. Use `pnorm(u, mean, sd, lower.tail = FALSE)` for $P(X > u)$ or $P(X \\ge u)$\n",
    "    * right tail problem\n",
    "3. Use `1 - pnorm(l, mean, sd) - pnorm(u, mean, sd, lower.tail = FALSE)` for $P(l < X < u)$ etc.\n",
    "    * two tail problem\n",
    "    "
   ]
  },
  {
   "cell_type": "code",
   "execution_count": 10,
   "metadata": {
    "collapsed": false
   },
   "outputs": [
    {
     "data": {
      "text/html": [
       "0.158655253931457"
      ],
      "text/latex": [
       "0.158655253931457"
      ],
      "text/markdown": [
       "0.158655253931457"
      ],
      "text/plain": [
       "[1] 0.1586553"
      ]
     },
     "metadata": {},
     "output_type": "display_data"
    }
   ],
   "source": [
    "prob_less_62 = pnorm(62, 64.5, 2.5)\n",
    "prob_less_62 "
   ]
  },
  {
   "cell_type": "code",
   "execution_count": 11,
   "metadata": {
    "collapsed": false
   },
   "outputs": [
    {
     "data": {
      "text/html": [
       "0.725746882249926"
      ],
      "text/latex": [
       "0.725746882249926"
      ],
      "text/markdown": [
       "0.725746882249926"
      ],
      "text/plain": [
       "[1] 0.7257469"
      ]
     },
     "metadata": {},
     "output_type": "display_data"
    }
   ],
   "source": [
    "prob_greater_63 = pnorm(63, 64.5, 2.5, lower.tail = FALSE)\n",
    "prob_greater_63 "
   ]
  },
  {
   "cell_type": "code",
   "execution_count": 12,
   "metadata": {
    "collapsed": false
   },
   "outputs": [
    {
     "data": {
      "text/html": [
       "0.498503050205332"
      ],
      "text/latex": [
       "0.498503050205332"
      ],
      "text/markdown": [
       "0.498503050205332"
      ],
      "text/plain": [
       "[1] 0.4985031"
      ]
     },
     "metadata": {},
     "output_type": "display_data"
    }
   ],
   "source": [
    "prob_between_64_68 = 1 - pnorm(64, 64.5, 2.5) - pnorm(68, 64.5, 2.5, lower.tail = FALSE)\n",
    "prob_between_64_68 "
   ]
  },
  {
   "cell_type": "markdown",
   "metadata": {},
   "source": [
    "# Code Cells for Homework"
   ]
  },
  {
   "cell_type": "code",
   "execution_count": null,
   "metadata": {
    "collapsed": true
   },
   "outputs": [],
   "source": []
  },
  {
   "cell_type": "code",
   "execution_count": null,
   "metadata": {
    "collapsed": true
   },
   "outputs": [],
   "source": []
  },
  {
   "cell_type": "code",
   "execution_count": null,
   "metadata": {
    "collapsed": true
   },
   "outputs": [],
   "source": []
  },
  {
   "cell_type": "code",
   "execution_count": null,
   "metadata": {
    "collapsed": true
   },
   "outputs": [],
   "source": []
  },
  {
   "cell_type": "code",
   "execution_count": null,
   "metadata": {
    "collapsed": true
   },
   "outputs": [],
   "source": []
  },
  {
   "cell_type": "code",
   "execution_count": null,
   "metadata": {
    "collapsed": true
   },
   "outputs": [],
   "source": []
  },
  {
   "cell_type": "code",
   "execution_count": null,
   "metadata": {
    "collapsed": true
   },
   "outputs": [],
   "source": []
  },
  {
   "cell_type": "code",
   "execution_count": null,
   "metadata": {
    "collapsed": true
   },
   "outputs": [],
   "source": []
  },
  {
   "cell_type": "code",
   "execution_count": null,
   "metadata": {
    "collapsed": true
   },
   "outputs": [],
   "source": []
  },
  {
   "cell_type": "code",
   "execution_count": null,
   "metadata": {
    "collapsed": true
   },
   "outputs": [],
   "source": []
  }
 ],
 "metadata": {
  "anaconda-cloud": {},
  "kernelspec": {
   "display_name": "R",
   "language": "R",
   "name": "ir"
  },
  "language_info": {
   "codemirror_mode": "r",
   "file_extension": ".r",
   "mimetype": "text/x-r-source",
   "name": "R",
   "pygments_lexer": "r",
   "version": "3.3.2"
  }
 },
 "nbformat": 4,
 "nbformat_minor": 0
}
